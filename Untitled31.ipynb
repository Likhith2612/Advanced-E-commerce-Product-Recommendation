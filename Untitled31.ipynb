{
  "nbformat": 4,
  "nbformat_minor": 0,
  "metadata": {
    "colab": {
      "provenance": []
    },
    "kernelspec": {
      "name": "python3",
      "display_name": "Python 3"
    },
    "language_info": {
      "name": "python"
    }
  },
  "cells": [
    {
      "cell_type": "code",
      "execution_count": null,
      "metadata": {
        "id": "-3ZW7x_wlnhX"
      },
      "outputs": [],
      "source": [
        "import pandas as pd\n",
        "from surprise import Dataset, Reader, SVD, accuracy\n",
        "from surprise.model_selection import train_test_split\n",
        "\n",
        "# Sample data\n",
        "data_dict = {\n",
        "    'user_id': [1, 2, 3, 4, 5, 1, 2, 3, 4, 5, 1, 2, 3, 4, 5],\n",
        "    'product_id': [1, 1, 1, 2, 2, 2, 3, 3, 3, 4, 4, 4, 5, 5, 5],\n",
        "    'rating': [5, 4, 3, 5, 4, 3, 4, 5, 3, 5, 4, 3, 5, 4, 3]\n",
        "}\n",
        "\n",
        "# Create DataFrame\n",
        "df = pd.DataFrame(data_dict)\n",
        "\n",
        "# Define a reader with the rating scale\n",
        "reader = Reader(rating_scale=(1, 5))\n",
        "\n",
        "# Load the data from the DataFrame\n",
        "data = Dataset.load_from_df(df[['user_id', 'product_id', 'rating']], reader)\n",
        "\n",
        "# Split the data into train and test sets\n",
        "trainset, testset = train_test_split(data, test_size=0.25)\n",
        "\n",
        "# Use the SVD algorithm for training\n",
        "algo = SVD()\n",
        "\n",
        "# Train the algorithm on the trainset\n",
        "algo.fit(trainset)\n",
        "\n",
        "# Test the algorithm on the testset\n",
        "predictions = algo.test(testset)\n",
        "\n",
        "# Calculate and print RMSE\n",
        "rmse = accuracy.rmse(predictions)\n",
        "\n",
        "# Function to get top N recommendations for a user\n",
        "def get_top_n_recommendations(algo, user_id, df, n=5):\n",
        "    all_product_ids = df['product_id'].unique()\n",
        "    rated_product_ids = df[df['user_id'] == user_id]['product_id'].values\n",
        "    unrated_product_ids = [pid for pid in all_product_ids if pid not in rated_product_ids]\n",
        "\n",
        "    # Predict ratings for all unrated products\n",
        "    predictions = [algo.predict(user_id, pid) for pid in unrated_product_ids]\n",
        "\n",
        "    # Sort predictions by estimated rating\n",
        "    predictions.sort(key=lambda x: x.est, reverse=True)\n",
        "\n",
        "    # Get the top N product IDs\n",
        "    top_n_product_ids = [pred.iid for pred in predictions[:n]]\n",
        "    return top_n_product_ids\n",
        "\n",
        "# Example: Get top 5 recommendations for user with ID 1\n",
        "user_id = 1\n",
        "top_n_recommendations = get_top_n_recommendations(algo, user_id, df, n=5)\n",
        "print(f\"Top 5 recommendations for user {user_id}: {top_n_recommendations}\")\n"
      ]
    }
  ]
}